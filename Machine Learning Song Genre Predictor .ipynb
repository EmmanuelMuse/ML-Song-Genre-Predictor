{
 "cells": [
  {
   "cell_type": "markdown",
   "metadata": {},
   "source": [
    "Crawl the page of the hot 100 songs from: http://www.metrolyrics.com/"
   ]
  },
  {
   "cell_type": "code",
   "execution_count": 171,
   "metadata": {
    "ExecuteTime": {
     "end_time": "2021-04-14T18:16:57.892105Z",
     "start_time": "2021-04-14T18:16:50.598270Z"
    },
    "scrolled": false
   },
   "outputs": [],
   "source": [
    "import requests\n",
    "import re\n",
    "from lxml import html\n",
    "import matplotlib\n",
    "import numpy as np\n",
    "import pandas as pd\n",
    "from sklearn.feature_extraction.text import CountVectorizer\n",
    "from sklearn.feature_extraction.text import TfidfTransformer\n",
    "import time\n",
    "import boto3\n",
    "from bs4 import BeautifulSoup\n",
    "import urllib3"
   ]
  },
  {
   "cell_type": "markdown",
   "metadata": {},
   "source": [
    "Getting Robots.txt"
   ]
  },
  {
   "cell_type": "code",
   "execution_count": 172,
   "metadata": {
    "ExecuteTime": {
     "end_time": "2021-04-13T22:28:34.733056Z",
     "start_time": "2021-04-13T22:28:34.586348Z"
    },
    "scrolled": false
   },
   "outputs": [
    {
     "output_type": "stream",
     "name": "stdout",
     "text": [
      "User-agent: *\nAllow: /api/v1/sitemapxml/*\nDisallow: /tools/\nDisallow: /api/\nDisallow: /8264/\nDisallow: /search.html\nDisallow: /*-pictures.html$\nAllow: /*-lyrics-*-pictures.html$\n\nUser-agent: ccbot\nDisallow: /\n\nUser-Agent: msnbot\nCrawl-delay: 2\n\nUser-Agent: bingbot\nCrawl-delay: 2\n\nUser-Agent: Yandex\nCrawl-delay: 2\n\n"
     ]
    }
   ],
   "source": [
    "url = \"http://www.metrolyrics.com/robots.txt\"\n",
    "robotstxt = requests.get(url)\n",
    "\n",
    "import pprint \n",
    "pp = pprint.PrettyPrinter(indent=4)\n",
    "print(robotstxt.text)"
   ]
  },
  {
   "source": [
    "# Capturing the 'title', 'artist', 'link', and 'genre' of each genre's Top 100 Songs"
   ],
   "cell_type": "markdown",
   "metadata": {}
  },
  {
   "cell_type": "code",
   "execution_count": 204,
   "metadata": {},
   "outputs": [],
   "source": [
    "def get_song_lyrics(link=str):\n",
    "    response = requests.get(link, 'lxml')\n",
    "    soup = BeautifulSoup(response.text, 'lxml')\n",
    "    return soup\n",
    "\n",
    "\n",
    "def clean_song_lyrics(link=str):\n",
    "    lyrics_soup = get_song_lyrics(link)\n",
    "    clean_lyrics = []\n",
    "    line_count=0\n",
    "    # output counter\n",
    "    print('\\n\\n STARTED CLEANING LYRICS FOR SONG: \\n\\n ', link, '\\n\\n ')\n",
    "    for text in lyrics_soup.find_all('p', class_='verse'):\n",
    "        clean_lyrics.append(text.text)\n",
    "        line_count+=1\n",
    "    print('\\n\\nSONG CONTAINS  ' + str(line_count) + '  VERSES \\n\\n ')\n",
    "    print('\\n\\n FINISHED CLEANING SONG: \\n\\n ', link, ' \\n\\n ')\n",
    "    print('\\n\\n HERE ARE CLEANED LYRICS: \\n\\n ', clean_lyrics, ' \\n\\n ')\n",
    "    return clean_lyrics"
   ]
  },
  {
   "source": [
    "BeautifulSoup Web Crawler"
   ],
   "cell_type": "markdown",
   "metadata": {}
  },
  {
   "cell_type": "code",
   "execution_count": 205,
   "metadata": {
    "ExecuteTime": {
     "end_time": "2021-04-14T18:17:05.920038Z",
     "start_time": "2021-04-14T18:17:04.467010Z"
    },
    "scrolled": false,
    "tags": [
     "outputPrepend"
    ]
   },
   "outputs": [
    {
     "output_type": "stream",
     "name": "stdout",
     "text": [
      "g\\nI've come to give this song\\nI've come to give this song\\nI've come to give this song\", 'Chandra Brambra Chandra Chandra Bendram...', \"I've come to give this song\\nFrom the world of dreams\\nI've come to give this song\\nFrom crystal tears\\nI've come to give this song\\nFor love\\nI've come to give this song\\nChandra Brambra Chandra Chandra Bendram.\"]  \n",
      "\n",
      " \n",
      "\n",
      "\n",
      " STARTED CLEANING LYRICS FOR SONG: \n",
      "\n",
      "  http://www.metrolyrics.com/tale-as-old-as-time-lyrics-disney.html \n",
      "\n",
      " \n",
      "\n",
      "\n",
      "SONG CONTAINS  8  VERSES \n",
      "\n",
      " \n",
      "\n",
      "\n",
      " FINISHED CLEANING SONG: \n",
      "\n",
      "  http://www.metrolyrics.com/tale-as-old-as-time-lyrics-disney.html  \n",
      "\n",
      " \n",
      "\n",
      "\n",
      " HERE ARE CLEANED LYRICS: \n",
      "\n",
      "  ['[Intro]\\nTale as old as time\\nTrue as it can be\\nBarely even friends\\nThen somebody bends\\nUnexpectedly', '[Verse 1]\\nJust a little change\\nSmall to say the least\\nBoth a little scared\\nNeither one prepared\\nBeauty and the beast', '[Pre-Chorus]\\nEver just the same\\nEver a surprise\\nEver as before\\nEver just as sure\\nAs the sun will rise', '[Chorus]\\nTale as old as time\\nTune as old as song', '[Verse 2]\\nBitter sweet and strange\\nFinding you can change\\nLearning you were wrong', '[Bridge]\\nCertain as the sun\\nRising in the east', '[Chorus]\\nTale as old as time\\nSong as old as rhyme\\nBeauty and the beast x2', \"[Outro]\\nOff to the cupboard with you Chip it's past your bed time\\nGoodnight love\"]  \n",
      "\n",
      " \n",
      "\n",
      "\n",
      " STARTED CLEANING LYRICS FOR SONG: \n",
      "\n",
      "  http://www.metrolyrics.com/magbalik-lyrics-callalily.html \n",
      "\n",
      " \n",
      "\n",
      "\n",
      "SONG CONTAINS  11  VERSES \n",
      "\n",
      " \n",
      "\n",
      "\n",
      " FINISHED CLEANING SONG: \n",
      "\n",
      "  http://www.metrolyrics.com/magbalik-lyrics-callalily.html  \n",
      "\n",
      " \n",
      "\n",
      "\n",
      " HERE ARE CLEANED LYRICS: \n",
      "\n",
      "  ['Wala nang dating pagtingin\\nSawa na ba saking lambing\\nWala ka namang dahilan\\nBakit bigla na lang nang iwan?', \"Di na alam ang gagawin\\nUpang ika'y magbalik sa'kin\\nGinawa ko naman ang lahat\\nBakit bigla na lang naghanap?\", \"Hindi magbabago\\nPagmamahal sa iyo\\nSana'y pakinggan mo\\nAng awit ng pusong ito\", 'Tulad ng mundong hindi\\nTumitigil sa pag-ikot\\nPag ibig di mapapagod', 'Tulad ng ilog na hindi\\nTumitigil sa pag agos\\nPag ibig di matatapos', \"Alaala'y bumabalik\\nMga panahong nasasabik\\nSukdulang mukha mo ay\\nLaging nasa panaginip\", \"Bakit biglang pinagpalit\\nPagsasamaha'y tila nawaglit\\nAng dating walang hanggan\\nNagkaroon ng katapusan\", \"Hindi magbabago\\nPagmamahal sa iyo\\nSana'y pakinggan mo\\nAng awit ng pusong ito\", 'Woah oh', 'Tulad ng mundong hindi\\nTumitigil sa pag-ikot\\nPag ibig di mapapagod', 'Tulad ng ilog na hindi\\nTumitigil sa pag agos\\nPag ibig di matatapos\\nTulad ng mundong hindi\\nTumitigil sa pag-ikot\\nPag ibig di mapapagod\\nTulad ng ilog na hindi\\nTumitigil sa pag agos\\nPag ibig di matatapos\\nTumitigil... (pag ibig di matatapos)\\nTumitigil\\nPag-ibig di matatapos...']  \n",
      "\n",
      " \n",
      "\n",
      "\n",
      " STARTED CLEANING LYRICS FOR SONG: \n",
      "\n",
      "  http://www.metrolyrics.com/fresh-prince-of-bel-air-lyrics-will-smith.html \n",
      "\n",
      " \n",
      "\n",
      "\n",
      "SONG CONTAINS  8  VERSES \n",
      "\n",
      " \n",
      "\n",
      "\n",
      " FINISHED CLEANING SONG: \n",
      "\n",
      "  http://www.metrolyrics.com/fresh-prince-of-bel-air-lyrics-will-smith.html  \n",
      "\n",
      " \n",
      "\n",
      "\n",
      " HERE ARE CLEANED LYRICS: \n",
      "\n",
      "  [\"Now, this is a story all about how\\nMy life got flipped-turned upside down\\nAnd I'd like to take a minute\\nJust sit right there\\nI'll tell you how I became the prince of a town called Bel Air\", \"In west Philadelphia born and raised\\nOn the playground was where I spent most of my days\\nChillin' out maxin' relaxin' all cool\\nAnd all shootin some b-ball outside of the school\\nWhen a couple of guys who were up to no good\\nStarted making trouble in my neighborhood\\nI got in one little fight and my mom got scared\\nShe said 'You're movin' with your auntie and uncle in Bel Air'\", \"I begged and pleaded with her day after day\\nBut she packed my suit case and sent me on my way\\nShe gave me a kiss and then she gave me my ticket.\\nI put my Walkman on and said, 'I might as well kick it'.\", 'First class, yo this is bad\\nDrinking orange juice out of a champagne glass.\\nIs this what the people of Bel-Air living like?\\nHmmmmm this might be alright.', \"But wait I hear they're prissy, bourgeois, all that\\nIs this the type of place that they just send this cool cat?\\nI don't think so\\nI'll see when I get there\\nI hope they're prepared for the prince of Bel-Air\", \"Well, the plane landed and when I came out\\nThere was a dude who looked like a cop standing there with my name out\\nI ain't trying to get arrested yet\\nI just got here\\nI sprang with the quickness like lightning, disappeared\", \"I whistled for a cab and when it came near\\nThe license plate said fresh and it had dice in the mirror\\nIf anything I could say that this cab was rare\\nBut I thought 'Nah, forget it' - 'Yo, homes to Bel Air'\", \"I pulled up to the house about 7 or 8\\nAnd I yelled to the cabbie 'Yo homes smell ya later'\\nI looked at my kingdom\\nI was finally there\\nTo sit on my throne as the Prince of Bel Air\"]  \n",
      "\n",
      " \n",
      "\n",
      "\n",
      " STARTED CLEANING LYRICS FOR SONG: \n",
      "\n",
      "  http://www.metrolyrics.com/price-tag-lyrics-jessie-j.html \n",
      "\n",
      " \n",
      "\n",
      "\n",
      "SONG CONTAINS  11  VERSES \n",
      "\n",
      " \n",
      "\n",
      "\n",
      " FINISHED CLEANING SONG: \n",
      "\n",
      "  http://www.metrolyrics.com/price-tag-lyrics-jessie-j.html  \n",
      "\n",
      " \n",
      "\n",
      "\n",
      " HERE ARE CLEANED LYRICS: \n",
      "\n",
      "  ['Okey! Coconut man, moonheads and pea!\\nYou ready!', \"Seems like everybody's got a price\\nI wonder how they sleep at night.\\nWhen the sale comes first\", 'And the truth comes second\\nJust stop, for a minute and\\nSmile\\nWhy is everybody so serious!\\nActing so damn mysterious', \"You got your shades on your eyes\\nAnd your heels so high\\nThat you can't even have a good time.\\nEverybody look to their left (yeah)\", \"Everybody look to their right (ha)\\nCan you feel that (yeah)\\nWell pay them with love tonight...\\nIt's not about the money, money, money\", \"We don't need your money, money, money\\nWe just wanna make the world dance\\nForget about the Price Tag\\nAin't about the (ha) Cha-Ching Cha-Ching.\", 'Aint about the (yeah) Ba-Bling Ba-Bling\\nWanna make the world dance\\nForget about the Price Tag.\\nWe need to take it back in time', \"When music made us all UNITE!\\nAnd it wasn't low blows and video Hoes\\nAm I the only one gettin'... tired?\\nWhy is everybody so obsessed?\\nMoney can't buy us happiness\", \"Can we all slow down and enjoy right now\\nGuarantee we'll be feelin\\nAll right.\\nEverybody look to their left (to their left)\", \"Everybody look to their right (to their right)\\nCan you feel that (yeah)\\nWell pay them with love tonight...\\nIt's not about the money, money, money\\nWe don't need your money, money, money\\nWe just wanna make the world dance\\nForget about the Price Tag\\nAin't about the (ha) Cha-Ching, Cha-Ching\\nAin't about the (yeah) Ba-Bling, Ba-Bling\\nWanna make the world dance\\nForget about the Price Tag\\nYeah yeah\\nwell, keep the price tag\\nand take the cash back\\njust give me six streams and a half stack\\nand you can keep the cars\\nleave me the garage\", \"and all I.\\nyes all I need are keys and guitars\\nand guess what, in 30 seconds I'm leaving to Mars\\nyes we leaving across these undefeatable odds\\nits like this man, you can't put a price on the life\\nwe do this for the love so we fight and sacrifice everynight\\nso we aint gon stumble and fall never\\nwaiting to see, a sign of defeat uh uh\\nso we gon keep everyone moving their feet\\nso bring back the beat and everybody sing\\nIt's not about the money, money, money\\nWe don't need your money, money, money\\nWe just wanna make the world dance\\nForget about the Price Tag\\nAin't about the (ha) Cha-Ching, Cha-Ching\\nAin't about the (yeah) Ba-Bling, Ba-Bling\\nWanna make the world dance\\nForget about the Price Tag\\nIt's not about the money, money, money\\nWe don't need your money, money, money\\nWe just wanna make the world dance\\nForget about the Price Tag\\nAin't about the (ha) Cha-Ching, Cha-Ching\\nAin't about the (yeah) Ba-Bling, Ba-Bling\\nWanna make the world dance\\nForget about the Price Tag (Forget about the price tag)\\nYeah, yeah\\noo-oooh\\nforget about the price tag.\"]  \n",
      "\n",
      " \n",
      "\n",
      "\n",
      " STARTED CLEANING LYRICS FOR SONG: \n",
      "\n",
      "  http://www.metrolyrics.com/nico-and-the-niners-lyrics-twenty-one-pilots.html \n",
      "\n",
      " \n",
      "\n",
      "\n",
      "SONG CONTAINS  9  VERSES \n",
      "\n",
      " \n",
      "\n",
      "\n",
      " FINISHED CLEANING SONG: \n",
      "\n",
      "  http://www.metrolyrics.com/nico-and-the-niners-lyrics-twenty-one-pilots.html  \n",
      "\n",
      " \n",
      "\n",
      "\n",
      " HERE ARE CLEANED LYRICS: \n",
      "\n",
      "  [\"East is up\\nI'm fearless when I hear this on the low\\nEast is up\\nI'm careless when I wear my rebel clothes\\nEast is up\\nWhen Bishops come together they will know that\\nDema don't control us, Dema don't control\\nEast is up\", 'They want to make you forget\\nThey want to make you forget\\nSave your razorblades now, not yet\\nSave your razorblades now, not yet', \"I'm heavy, my jumpsuit is on steady\\nI'm lighter when I'm lower\\nI'm higher when I'm heavy, oh\\nI'm so high, my jumpsuit takes me so high\\nI'm flying from a fire\\nFrom Nico and the Niners, oh\", \"East is up\\nI'm fearless when I hear this on the low\\nEast is up\\nI'm careless when I wear my rebel clothes\\nEast is up\\nWhen Bishops come together they will know that\\nDema don't control us, Dema don't control\", \"I'm heavy, my jumpsuit is on steady\\nI'm lighter when I'm lower\\nI'm higher when I'm heavy, oh\\nI'm so high, my jumpsuit takes me so high\\nI'm flying from a fire\\nFrom Nico and the Niners, oh\", \"I'm heavy, jumpsuit is on steady\\nLighter when I'm lower\\nHigher when I'm heavy, oh-oh\\nI'm so high, I'm so high\\nSo high, I'm so high\\nFire, Nico and the Niners\", \"What I say when I want to be enough\\nWhat a beautiful day for making a break for it\\nWe'll find a way to pay for it\\nMaybe from all the money we made razorblade stores\\nRent a race horse and force a sponsor\\nAnd start a concert, a complete diversion\\nStart a mob and you can be quite certain\\nWe'll win but, not everyone will get out\\nNo, no\\nWe'll win but, not everyone will get out\\nNo, no\\nWe'll win but, not everyone will get out\", \"East is up\\nI'm fearless when I hear this on the low\\nEast is up\\nI'm careless when I wear my rebel clothes\\nEast is up\\nWhen Bishops come together they will know that\\nDema don't control us, Dema don't control\\nEast is up\", \"I'm so high, so high\\nFire, from Nico and the Niners, oh\\nI'm so high, so high\\nSo did they bury you?\\nFire, Nico and the Niners\"]  \n",
      "\n",
      " \n",
      "\n",
      "\n",
      " STARTED CLEANING LYRICS FOR SONG: \n",
      "\n",
      "  http://www.metrolyrics.com/burn-lyrics-usher.html \n",
      "\n",
      " \n",
      "\n",
      "\n",
      "SONG CONTAINS  13  VERSES \n",
      "\n",
      " \n",
      "\n",
      "\n",
      " FINISHED CLEANING SONG: \n",
      "\n",
      "  http://www.metrolyrics.com/burn-lyrics-usher.html  \n",
      "\n",
      " \n",
      "\n",
      "\n",
      " HERE ARE CLEANED LYRICS: \n",
      "\n",
      "  [\"I don't understand why\\nSee it's burning me to hold onto this\\nI know this is something I gotta do\\nBut that don't mean I want to\\nWhat I'm trying to say is that I-love-you I just\\nI feel like this is coming to an end\\nAnd its better for me to\\nLet it go now than hold on and hurt you\\nI gotta let it burn\", \"It's gonna burn for me to say this\\nBut it's comin from my heart\\nIt's been a long time coming\", \"But we done been fell apart\\nReally wanna work this out\\nBut I don't think you're gonna change\\nI do but you don't\\nThink it's best we go our separate ways\\nTell me why I should stay in this relationship\\nWhen I'm hurting baby, I ain't happy baby\\nPlus there's so many other things I gotta deal with\\nI think that you should let it burn\", \"When the feeling ain't the same and your body don't want to\\nBut you know gotta let it go cuz the party ain't jumpin' like it used to\\nEven though this might bruise you\", 'Let it burn\\nLet it burn...', \"Gotta let it burn\\nDeep down you know it's best for yourself but you\\nHate the thought of her being with someone else\\nBut you know that it's over\\nWe knew it been through\\nLet it burn\\nLet it burn\", \"Gotta let it burn\\nSendin' pages I ain't supposed to\\nGot somebody here but I want you\\nCause the feelin ain't the same find myself\\nCallin' her your name\\nLadies tell me do you understand?\\nNow all my fellas do you feel my pain?\\nIt's the way I feel\\nI know I made a mistake\\nNow it's too late\\nI know she ain't comin back\\nWhat I gotta do now\\nTo get my shorty back\\nOoo ooo ooo ooooh\\nMan I don't know what I'm gonna do\\nWithout my booo\\nYou've been gone for too long\\nIt's been fifty-leven days, um-teen hours\", \"Imma be burnin' till you return (let it burn)\\nWhen the feeling ain't the same and your body don't want to\\nBut you know gotta let it go cuz the party ain't jumpin' like it used to\\nEven though this might bruise you\\nLet it burn\\nLet it burn...\\nGotta let it burn\", \"Deep down you know it's best for yourself but you\\nHate the thought of her being with someone else\\nBut you know that it's over\\nWe knew it been through\\nLet it burn\\nLet it burn...\\nGotta let it burn\", \"I'm twisted cuz one side of me is tellin' me\\nthat I need to move on\\nOn the other side I wanna break down\\nand cry (ooooh)\\nI'm twisted cuz one side of me is tellin' me\\nthat I need to move on\\nOn the other side I wanna break down and cry (yeah)\", \"Ooh ooh ooh ooh ooh oooh\\nOoh ooh oooh (can ya feel me burnin'?)\\nOoh ooh ooh oooh ooh oooh\", \"Ooh ooh oooh (can ya feel me burnin'?)\\nOoh ooh ooh oooh ooh oooh\", \"Ooh ooh oooh (can ya feel me burnin'?)\\nOoh ooh ooh oooh ooh oooh\\nSo many days, so many hours\\nI'm still burnin' till you return\\nWhen the feeling ain't the same and your body don't want to\\nBut you know gotta let it go cuz the party ain't jumpin' like it used to\\nEven though this might bruise you\\nLet it burn\\nLet it burn...\\nGotta let it burn\\nDeep down you know it's best for yourself but you\\nHate the thought of her being with someone else\\nBut you know that it's over\\nWe knew it been through\\nLet it burn\\nLet it burn\\nGotta let it burn\"]  \n",
      "\n",
      " \n",
      "\n",
      "\n",
      " STARTED CLEANING LYRICS FOR SONG: \n",
      "\n",
      "  http://www.metrolyrics.com/fabulous-lyrics-ashley-tisdale.html \n",
      "\n",
      " \n",
      "\n",
      "\n",
      "SONG CONTAINS  15  VERSES \n",
      "\n",
      " \n",
      "\n",
      "\n",
      " FINISHED CLEANING SONG: \n",
      "\n",
      "  http://www.metrolyrics.com/fabulous-lyrics-ashley-tisdale.html  \n",
      "\n",
      " \n",
      "\n",
      "\n",
      " HERE ARE CLEANED LYRICS: \n",
      "\n",
      "  [\"Sharpay:\\nIt's out with the old and in with the new\\nGoodbye clouds of grey, hello skies of blue\\nA dip in the pool, a trip to the spa,\\nendless days in my chaise\\nThe whole world according to moi!\\n(Excuse Me?)\\n(Thank You!)\\nIced tea imported from England,\\nlifeguards imported from Spain,\\nlowels imported from Turkey,\\nand turkey imported from Maine.\", \"Sharpay & Ryan:\\nWe're gonna relax and renew\", 'Sharpay:\\n(You... Go... Do!)\\nI want\\nFabulous!\\nThat is my simple request\\nAll things fabulous\\nbigger and better and best!\\nI need something inpiring to\\nhelp me get along.\\nI need a little fabulous,\\nis that so wrong?\\nFetch me my Jimmy Choo flip-flops\\nWhere is my pink Prada tote?\\nI need my Tiffany hairband\\nand then i can go for a float!', 'Ryan & Girls:\\nA summer like never before!', 'Sharpay:\\n(I... want... More!)', \"Ryan & Girls:\\nShe wants fabulous!\\nThat is her simple request\\nAll things fabulous,\\nbigger and better and best\\nShe needs something inpiring to\\nhelp her get along\\nShe needs a little fabulous,\\nis that so wrong?\\nFabulous pool, fabulous splash!\\nFabulous parties, even fabulous trash!\\nFabulous fashion, fabulous bling!\\nShe's got to have fabulous everything!\", \"Ryan & Sharpay:\\nNothing to discuss;\\nEverything's got to be perfect\", 'Sharpay:\\n(For me!)', 'Ryan:\\nShe wants\\nFabulous!\\nThat is her simple request\\nAll things fabulous,\\nbigger and better and best.\\nShe needs somethig inspiring to\\nhelp her get along\\nShe needs a little fabulous\\nis that so wrong?', \"Sharpay:\\nThis won't do\\nThat's a bore\\nThat's insulting\\nI need more\\nI need, I need\\nI need, I need\\nI need, I need!\\nI need fabulous!\", 'Girls:\\nFabulous hair, fabulous style!\\nFabulous eyes, and that fabulous smile!', 'Sharpay:\\nOh, I like what I see\\nI like it a lot', 'Girls:\\nIs this absolutely fabulous?', 'Ryan:\\nFabulous, fabulous, fabulous?', 'Sharpay:\\n(Absolutely...)\\n(...NOT!)']  \n",
      "\n",
      " \n",
      "\n",
      "\n",
      " STARTED CLEANING LYRICS FOR SONG: \n",
      "\n",
      "  http://www.metrolyrics.com/i-will-always-love-you-lyrics-whitney-houston.html \n",
      "\n",
      " \n",
      "\n",
      "\n",
      "SONG CONTAINS  5  VERSES \n",
      "\n",
      " \n",
      "\n",
      "\n",
      " FINISHED CLEANING SONG: \n",
      "\n",
      "  http://www.metrolyrics.com/i-will-always-love-you-lyrics-whitney-houston.html  \n",
      "\n",
      " \n",
      "\n",
      "\n",
      " HERE ARE CLEANED LYRICS: \n",
      "\n",
      "  [\"If I should stay\\nI would only be in your way\\nSo I'll go, but I know\\nI'll think of you every step of the way\\nAnd I will always love you\\nI will always love you\", \"You, my darling, you, hmm\\nBittersweet memories\\nThat is all I'm taking with me\\nSo, goodbye\\nPlease, don't cry\\nWe both know I'm not what you, you need\\nAnd I will always love you\\nI will always love you\", \"I hope life treats you kind\\nAnd I hope you have all you've dreamed of\\nAnd I wish to you joy and happiness\\nBut above all this, I wish you love\", 'And I will always love you\\nI will always love you\\nI will always love you\\nI will always love you\\nI will always love you\\nI will always love you', \"You\\nDarling, I love you\\nOoh, I'll always\\nI'll always love you\"]  \n",
      "\n",
      " \n",
      "\n",
      "\n",
      " STARTED CLEANING LYRICS FOR SONG: \n",
      "\n",
      "  http://www.metrolyrics.com/love-me-like-you-do-lyrics-ellie-goulding.html \n",
      "\n",
      " \n",
      "\n",
      "\n",
      "SONG CONTAINS  9  VERSES \n",
      "\n",
      " \n",
      "\n",
      "\n",
      " FINISHED CLEANING SONG: \n",
      "\n",
      "  http://www.metrolyrics.com/love-me-like-you-do-lyrics-ellie-goulding.html  \n",
      "\n",
      " \n",
      "\n",
      "\n",
      " HERE ARE CLEANED LYRICS: \n",
      "\n",
      "  [\"You're the light, you're the night\\nYou're the color of my blood\\nYou're the cure, you're the pain\\nYou're the only thing I wanna touch\\nNever knew that it could mean so much, so much\", \"You're the fear, I don't care\\n'Cause I've never been so high\\nFollow me through the dark\\nLet me take you past our satellites\\nYou can see the world you brought to life, to life\", 'So love me like you do, lo-lo-love me like you do\\nLove me like you do, lo-lo-love me like you do\\nTouch me like you do, to-to-touch me like you do\\nWhat are you waiting for?', \"Fading in, fading out\\nOn the edge of paradise\\nEvery inch of your skin is a holy grail I've got to find\\nOnly you can set my heart on fire, on fire\\nYeah, I'll let you set the pace\\n'Cause I'm not thinking straight\\nMy head's spinning around I can't see clear no more\\nWhat are you waiting for?\", 'Love me like you do, lo-lo-love me like you do (like you do)\\nLove me like you do, lo-lo-love me like you do\\nTouch me like you do, to-to-touch me like you do\\nWhat are you waiting for?', 'Love me like you do, lo-lo-love me like you do (like you do)\\nLove me like you do, lo-lo-love me like you do (yeah)\\nTouch me like you do, to-to-touch me like you do\\nWhat are you waiting for?', \"I'll let you set the pace\\n'Cause I'm not thinking straight\\nMy head's spinning around I can't see clear no more\\nWhat are you waiting for?\", 'Love me like you do, lo-lo-love me like you do (like you do)\\nLove me like you do, lo-lo-love me like you do (yeah)\\nTouch me like you do, to-to-touch me like you do\\nWhat are you waiting for?', 'Love me like you do, lo-lo-love me like you do (like you do)\\nLove me like you do, lo-lo-love me like you do (oh)\\nTouch me like you do, to-to-touch me like you do\\nWhat are you waiting for?']  \n",
      "\n",
      " \n",
      "\n",
      "\n",
      " STARTED CLEANING LYRICS FOR SONG: \n",
      "\n",
      "  http://www.metrolyrics.com/vamos-a-la-playa-lyrics-loona.html \n",
      "\n",
      " \n",
      "\n",
      "\n",
      "SONG CONTAINS  9  VERSES \n",
      "\n",
      " \n",
      "\n",
      "\n",
      " FINISHED CLEANING SONG: \n",
      "\n",
      "  http://www.metrolyrics.com/vamos-a-la-playa-lyrics-loona.html  \n",
      "\n",
      " \n",
      "\n",
      "\n",
      " HERE ARE CLEANED LYRICS: \n",
      "\n",
      "  ['Vamos a la playa\\nA mi me gusta bailar\\nel ritmo de la noche\\nsounds of fiesta. x2', 'You Know we go\\nWhere the feeling is right\\nYou know we go\\nWhere the groove is hot\\nYou know we go\\nwhere the feeling is right (feeling is right x3)', 'Vamos a la playa.\\nA mi me gusta bailar\\nel ritmo de la noche\\nsounds of fiesta. x2', 'Amigos Gue calor!\\nEs la maquina bailando.\\nVamos todos a la playa.\\nVamos todos a gozar.\\nBaila baila. x3', 'You Know we go\\nWhere the feeling is right\\nYou know we go\\nwhere the groove is hot\\nYou know we go\\nWhere the feeling is right (feeling is right x3)', 'Vamos a la playa.\\nA mi me gusta bailar\\nel ritmo de la noche\\nsounds of fiesta. x4', 'Amigos Gue calor!\\nEs la maquina bailando.\\nVamos todos a la playa.\\nVamos todos a gozar.\\nBaila Baila. x3', 'You Know we go\\nWhere the feeling is right\\nYou know we go\\nwhere the groove is hot\\nYou know we go\\nWhere the feeling is right (feeling is right x3)', 'Vamos a la playa.\\nA mi me gusta bailar\\nel ritmo de la noche\\nsounds of fiesta. x4']  \n",
      "\n",
      " \n"
     ]
    }
   ],
   "source": [
    "top_100_urls = ['http://www.metrolyrics.com/top100-hiphop.html', \n",
    "                'https://www.metrolyrics.com/top100-rb.html', \n",
    "                'http://www.metrolyrics.com/top100-rock.html',\n",
    "                'https://www.metrolyrics.com/top100-country.html',\n",
    "                'https://www.metrolyrics.com/top100-pop.html']\n",
    "song_links = []\n",
    "\n",
    "for i in range(len(top_100_urls)):\n",
    "    source_code = requests.get(top_100_urls[i])\n",
    "    soup = BeautifulSoup(source_code.text, 'lxml')\n",
    "\n",
    "    #Delete Counter after done testing\n",
    "    counter = soup.find('div', class_='content').find_all('li')\n",
    "    # for loop for getting the #1-#20 ranked songs from the site\n",
    "    \n",
    "    for link in soup.find_all('span', class_='song'):\n",
    "        href = link.find('a', class_='song-link').get('href')\n",
    "        song_title = link.find('a', class_='song-link').text\n",
    "        song_lyrics = clean_song_lyrics(href)\n",
    "        artist = link.find('a', class_='subtitle').get('title')\n",
    "        genre = re.split('(?<=top100-)(.*?)(?=.html)', str(top_100_urls[i]))[1]\n",
    "        song_links.append({'link': href, 'title': song_title[:-7], 'lyrics': song_lyrics,\n",
    "                          'artist': artist, 'genre': genre})\n",
    "\n",
    "    # for loop for getting the #21-#100 ranked songs from the site\n",
    "\n",
    "    for link in soup.find('div', class_='song-list').find_all('li'):\n",
    "        href = link.find('a', class_='title').get('href')\n",
    "        song_title = link.find('a', class_='title').string\n",
    "        song_lyrics = clean_song_lyrics(href)\n",
    "        artist = link.find('a', class_='subtitle').get('title')\n",
    "        genre = re.split('(?<=top100-)(.*?)(?=.html)', str(top_100_urls[i]))[1]\n",
    "        song_links.append({'link': href, 'title': song_title, 'lyrics': song_lyrics,\n",
    "                          'artist': artist, 'genre': genre})"
   ]
  },
  {
   "cell_type": "code",
   "execution_count": 177,
   "metadata": {
    "ExecuteTime": {
     "end_time": "2021-04-14T18:17:06.187131Z",
     "start_time": "2021-04-14T18:17:06.173561Z"
    }
   },
   "outputs": [
    {
     "output_type": "execute_result",
     "data": {
      "text/plain": [
       "500"
      ]
     },
     "metadata": {},
     "execution_count": 177
    }
   ],
   "source": [
    "len(song_links)"
   ]
  },
  {
   "cell_type": "code",
   "execution_count": 178,
   "metadata": {
    "ExecuteTime": {
     "end_time": "2021-04-14T18:17:06.485119Z",
     "start_time": "2021-04-14T18:17:06.347299Z"
    },
    "scrolled": true
   },
   "outputs": [
    {
     "output_type": "execute_result",
     "data": {
      "text/plain": [
       " Free Lyrics\\t',\n",
       "  'lyrics': [<generator object Tag._all_strings at 0x7fa968041190>,\n",
       "   <generator object Tag._all_strings at 0x7fa968523040>,\n",
       "   <generator object Tag._all_strings at 0x7fa9685230b0>,\n",
       "   <generator object Tag._all_strings at 0x7fa968523120>],\n",
       "  'artist': 'Vidya Vox',\n",
       "  'genre': 'pop'},\n",
       " {'link': 'http://www.metrolyrics.com/deeper-lyrics-holly-rey.html',\n",
       "  'title': '\\nDeeper Lyrics\\t',\n",
       "  'lyrics': [<generator object Tag._all_strings at 0x7fa968523270>,\n",
       "   <generator object Tag._all_strings at 0x7fa96859c7b0>,\n",
       "   <generator object Tag._all_strings at 0x7fa96859c820>,\n",
       "   <generator object Tag._all_strings at 0x7fa96859c890>,\n",
       "   <generator object Tag._all_strings at 0x7fa96859c900>,\n",
       "   <generator object Tag._all_strings at 0x7fa96859c970>],\n",
       "  'artist': 'Holly Rey',\n",
       "  'genre': 'pop'},\n",
       " {'link': 'http://www.metrolyrics.com/my-heart-will-go-on-titanic-lyrics-celine-dion.html',\n",
       "  'title': '\\nMy Heart Will Go On Lyrics\\t',\n",
       "  'lyrics': [<generator object Tag._all_strings at 0x7fa9685d0430>,\n",
       "   <generator object Tag._all_strings at 0x7fa9685d04a0>,\n",
       "   <generator object Tag._all_strings at 0x7fa9685d0510>,\n",
       "   <generator object Tag._all_strings at 0x7fa9685d0580>,\n",
       "   <generator object Tag._all_strings at 0x7fa9685d05f0>,\n",
       "   <generator object Tag._all_strings at 0x7fa9685d0660>],\n",
       "  'artist': 'Céline Dion',\n",
       "  'genre': 'pop'},\n",
       " {'link': 'http://www.metrolyrics.com/if-i-were-a-boy-lyrics-beyonce-knowles.html',\n",
       "  'title': '\\nIf I Were A Boy Lyrics\\t',\n",
       "  'lyrics': [<generator object Tag._all_strings at 0x7fa967be4dd0>,\n",
       "   <generator object Tag._all_strings at 0x7fa968695f20>,\n",
       "   <generator object Tag._all_strings at 0x7fa968695f90>,\n",
       "   <generator object Tag._all_strings at 0x7fa96869b040>,\n",
       "   <generator object Tag._all_strings at 0x7fa96869b0b0>,\n",
       "   <generator object Tag._all_strings at 0x7fa96869b120>],\n",
       "  'artist': 'Beyonce Knowles',\n",
       "  'genre': 'pop'},\n",
       " {'link': 'http://www.metrolyrics.com/bojhena-se-bojhena-lyrics-arijit-singh.html',\n",
       "  'title': '\\nBojhena Se Bojhena Lyrics\\t',\n",
       "  'lyrics': [<generator object Tag._all_strings at 0x7fa968695eb0>,\n",
       "   <generator object Tag._all_strings at 0x7fa96870d270>,\n",
       "   <generator object Tag._all_strings at 0x7fa96870d2e0>,\n",
       "   <generator object Tag._all_strings at 0x7fa96870d350>],\n",
       "  'artist': 'Arijit Singh',\n",
       "  'genre': 'pop'},\n",
       " {'link': 'http://www.metrolyrics.com/all-i-ask-lyrics-adele.html',\n",
       "  'title': '\\nAll I Ask Lyrics\\t',\n",
       "  'lyrics': [<generator object Tag._all_strings at 0x7fa9685232e0>,\n",
       "   <generator object Tag._all_strings at 0x7fa968783660>,\n",
       "   <generator object Tag._all_strings at 0x7fa9687836d0>,\n",
       "   <generator object Tag._all_strings at 0x7fa968783740>,\n",
       "   <generator object Tag._all_strings at 0x7fa9687837b0>,\n",
       "   <generator object Tag._all_strings at 0x7fa968783820>,\n",
       "   <generator object Tag._all_strings at 0x7fa968783890>,\n",
       "   <generator object Tag._all_strings at 0x7fa968783900>],\n",
       "  'artist': 'Adele',\n",
       "  'genre': 'pop'},\n",
       " {'link': 'http://www.metrolyrics.com/how-deep-is-your-love-lyrics-bee-gees.html',\n",
       "  'title': '\\nHow Deep Is Your Love Lyrics\\t',\n",
       "  'lyrics': [<generator object Tag._all_strings at 0x7fa968327eb0>,\n",
       "   <generator object Tag._all_strings at 0x7fa968805eb0>,\n",
       "   <generator object Tag._all_strings at 0x7fa968805f20>,\n",
       "   <generator object Tag._all_strings at 0x7fa968805f90>,\n",
       "   <generator object Tag._all_strings at 0x7fa96880b040>,\n",
       "   <generator object Tag._all_strings at 0x7fa96880b0b0>,\n",
       "   <generator object Tag._all_strings at 0x7fa96880b120>,\n",
       "   <generator object Tag._all_strings at 0x7fa96880b190>],\n",
       "  'artist': 'Bee Gees',\n",
       "  'genre': 'pop'},\n",
       " {'link': 'http://www.metrolyrics.com/naina-lyrics-arijit-singh.html',\n",
       "  'title': '\\nNaina Lyrics\\t',\n",
       "  'lyrics': [<generator object Tag._all_strings at 0x7fa96880b270>,\n",
       "   <generator object Tag._all_strings at 0x7fa96887a5f0>,\n",
       "   <generator object Tag._all_strings at 0x7fa96887a660>,\n",
       "   <generator object Tag._all_strings at 0x7fa96887a6d0>,\n",
       "   <generator object Tag._all_strings at 0x7fa96887a740>,\n",
       "   <generator object Tag._all_strings at 0x7fa96887a7b0>],\n",
       "  'artist': 'Arijit Singh',\n",
       "  'genre': 'pop'},\n",
       " {'link': 'http://www.metrolyrics.com/greased-lightning-lyrics-grease.html',\n",
       "  'title': '\\nGreased Lightning Lyrics\\t',\n",
       "  'lyrics': [<generator object Tag._all_strings at 0x7fa96880b350>,\n",
       "   <generator object Tag._all_strings at 0x7fa9688b5350>,\n",
       "   <generator object Tag._all_strings at 0x7fa9688b53c0>,\n",
       "   <generator object Tag._all_strings at 0x7fa9688b5430>,\n",
       "   <generator object Tag._all_strings at 0x7fa9688b54a0>],\n",
       "  'artist': 'Grease',\n",
       "  'genre': 'pop'},\n",
       " {'link': 'http://www.metrolyrics.com/set-fire-to-the-rain-lyrics-adele.html',\n",
       "  'title': '\\nSet Fire To The Rain Lyrics\\t',\n",
       "  'lyrics': [<generator object Tag._all_strings at 0x7fa968a9c970>,\n",
       "   <generator object Tag._all_strings at 0x7fa968a9c9e0>,\n",
       "   <generator object Tag._all_strings at 0x7fa968a9ca50>,\n",
       "   <generator object Tag._all_strings at 0x7fa968a9cac0>,\n",
       "   <generator object Tag._all_strings at 0x7fa968a9cb30>,\n",
       "   <generator object Tag._all_strings at 0x7fa968a9cba0>],\n",
       "  'artist': 'Adele',\n",
       "  'genre': 'pop'},\n",
       " {'link': 'http://www.metrolyrics.com/umbrella-lyrics-rihanna.html',\n",
       "  'title': '\\nUmbrella Lyrics\\t',\n",
       "  'lyrics': [<generator object Tag._all_strings at 0x7fa96880b3c0>,\n",
       "   <generator object Tag._all_strings at 0x7fa968ae20b0>,\n",
       "   <generator object Tag._all_strings at 0x7fa968ae2120>,\n",
       "   <generator object Tag._all_strings at 0x7fa968ae2190>,\n",
       "   <generator object Tag._all_strings at 0x7fa968ae2200>,\n",
       "   <generator object Tag._all_strings at 0x7fa968ae2270>,\n",
       "   <generator object Tag._all_strings at 0x7fa968ae22e0>,\n",
       "   <generator object Tag._all_strings at 0x7fa968ae2350>,\n",
       "   <generator object Tag._all_strings at 0x7fa968ae23c0>,\n",
       "   <generator object Tag._all_strings at 0x7fa968ae2430>,\n",
       "   <generator object Tag._all_strings at 0x7fa968ae24a0>,\n",
       "   <generator object Tag._all_strings at 0x7fa968ae2510>,\n",
       "   <generator object Tag._all_strings at 0x7fa968ae2580>],\n",
       "  'artist': 'Rihanna',\n",
       "  'genre': 'pop'},\n",
       " {'link': 'http://www.metrolyrics.com/youngblood-lyrics-5-seconds-of-summer.html',\n",
       "  'title': '\\nYoungBlood Lyrics\\t',\n",
       "  'lyrics': [<generator object Tag._all_strings at 0x7fa96859cb30>,\n",
       "   <generator object Tag._all_strings at 0x7fa968bada50>,\n",
       "   <generator object Tag._all_strings at 0x7fa968badac0>,\n",
       "   <generator object Tag._all_strings at 0x7fa968badb30>,\n",
       "   <generator object Tag._all_strings at 0x7fa968badba0>,\n",
       "   <generator object Tag._all_strings at 0x7fa968badc10>,\n",
       "   <generator object Tag._all_strings at 0x7fa968badc80>,\n",
       "   <generator object Tag._all_strings at 0x7fa968badcf0>,\n",
       "   <generator object Tag._all_strings at 0x7fa968badd60>,\n",
       "   <generator object Tag._all_strings at 0x7fa968baddd0>,\n",
       "   <generator object Tag._all_strings at 0x7fa968bade40>,\n",
       "   <generator object Tag._all_strings at 0x7fa968badeb0>,\n",
       "   <generator object Tag._all_strings at 0x7fa968badf20>,\n",
       "   <generator object Tag._all_strings at 0x7fa968badf90>,\n",
       "   <generator object Tag._all_strings at 0x7fa968bb1040>,\n",
       "   <generator object Tag._all_strings at 0x7fa968bb10b0>,\n",
       "   <generator object Tag._all_strings at 0x7fa968bb1120>,\n",
       "   <generator object Tag._all_strings at 0x7fa968bb1190>,\n",
       "   <generator object Tag._all_strings at 0x7fa968bb1200>,\n",
       "   <generator object Tag._all_strings at 0x7fa968bb1270>],\n",
       "  'artist': '5 Seconds Of Summer',\n",
       "  'genre': 'pop'},\n",
       " {'link': 'http://www.metrolyrics.com/rewrite-the-stars-lyrics-zac-efron.html',\n",
       "  'title': '\\nRewrite the Stars Lyrics\\t',\n",
       "  'lyrics': [<generator object Tag._all_strings at 0x7fa968bad9e0>,\n",
       "   <generator object Tag._all_strings at 0x7fa968c2d0b0>,\n",
       "   <generator object Tag._all_strings at 0x7fa968c2d120>,\n",
       "   <generator object Tag._all_strings at 0x7fa968c2d190>,\n",
       "   <generator object Tag._all_strings at 0x7fa968c2d200>,\n",
       "   <generator object Tag._all_strings at 0x7fa968c2d270>,\n",
       "   <generator object Tag._all_strings at 0x7fa968c2d2e0>,\n",
       "   <generator object Tag._all_strings at 0x7fa968c2d350>,\n",
       "   <generator object Tag._all_strings at 0x7fa968c2d3c0>,\n",
       "   <generator object Tag._all_strings at 0x7fa968c2d430>,\n",
       "   <generator object Tag._all_strings at 0x7fa968c2d4a0>],\n",
       "  'artist': 'Zac Efron',\n",
       "  'genre': 'pop'},\n",
       " {'link': 'http://www.metrolyrics.com/the-climb-lyrics-miley-cyrus.html',\n",
       "  'title': '\\nThe Climb Lyrics\\t',\n",
       "  'lyrics': [<generator object Tag._all_strings at 0x7fa968c2d5f0>,\n",
       "   <generator object Tag._all_strings at 0x7fa968c6a740>,\n",
       "   <generator object Tag._all_strings at 0x7fa968c6a7b0>,\n",
       "   <generator object Tag._all_strings at 0x7fa968c6a820>,\n",
       "   <generator object Tag._all_strings at 0x7fa968c6a890>,\n",
       "   <generator object Tag._all_strings at 0x7fa968c6a900>,\n",
       "   <generator object Tag._all_strings at 0x7fa968c6a970>,\n",
       "   <generator object Tag._all_strings at 0x7fa968c6a9e0>,\n",
       "   <generator object Tag._all_strings at 0x7fa968c6aa50>,\n",
       "   <generator object Tag._all_strings at 0x7fa968c6aac0>,\n",
       "   <generator object Tag._all_strings at 0x7fa968c6ab30>,\n",
       "   <generator object Tag._all_strings at 0x7fa968c6aba0>,\n",
       "   <generator object Tag._all_strings at 0x7fa968c6ac10>],\n",
       "  'artist': 'Miley Cyrus',\n",
       "  'genre': 'pop'},\n",
       " {'link': 'http://www.metrolyrics.com/zero-to-hero-lyrics-disney.html',\n",
       "  'title': '\\nzero to hero Lyrics\\t',\n",
       "  'lyrics': [<generator object Tag._all_strings at 0x7fa968c6ad60>,\n",
       "   <generator object Tag._all_strings at 0x7fa968e07cf0>,\n",
       "   <generator object Tag._all_strings at 0x7fa968e07d60>,\n",
       "   <generator object Tag._all_strings at 0x7fa968e07dd0>,\n",
       "   <generator object Tag._all_strings at 0x7fa968e07e40>,\n",
       "   <generator object Tag._all_strings at 0x7fa968e07eb0>,\n",
       "   <generator object Tag._all_strings at 0x7fa968e07f20>,\n",
       "   <generator object Tag._all_strings at 0x7fa968e07f90>,\n",
       "   <generator object Tag._all_strings at 0x7fa968e0e040>,\n",
       "   <generator object Tag._all_strings at 0x7fa968e0e0b0>,\n",
       "   <generator object Tag._all_strings at 0x7fa968e0e120>,\n",
       "   <generator object Tag._all_strings at 0x7fa968e0e190>],\n",
       "  'artist': 'Disney',\n",
       "  'genre': 'pop'},\n",
       " {'link': 'http://www.metrolyrics.com/despacito-remix-lyrics-luis-fonsi.html',\n",
       "  'title': '\\nDespacito (Remix) Lyrics\\t',\n",
       "  'lyrics': [<generator object Tag._all_strings at 0x7fa968c6add0>,\n",
       "   <generator object Tag._all_strings at 0x7fa968e8dac0>,\n",
       "   <generator object Tag._all_strings at 0x7fa968e8db30>,\n",
       "   <generator object Tag._all_strings at 0x7fa968e8dba0>,\n",
       "   <generator object Tag._all_strings at 0x7fa968e8dc10>,\n",
       "   <generator object Tag._all_strings at 0x7fa968e8dc80>,\n",
       "   <generator object Tag._all_strings at 0x7fa968e8dcf0>,\n",
       "   <generator object Tag._all_strings at 0x7fa968e8dd60>,\n",
       "   <generator object Tag._all_strings at 0x7fa968e8ddd0>,\n",
       "   <generator object Tag._all_strings at 0x7fa968e8de40>],\n",
       "  'artist': 'Luis Fonsi',\n",
       "  'genre': 'pop'},\n",
       " {'link': 'http://www.metrolyrics.com/himlen-ar-oskyldigt-bla-lyrics-ted-gaerdestad.html',\n",
       "  'title': '\\nHimlen Är Oskyldigt Blå Lyrics\\t',\n",
       "  'lyrics': [<generator object Tag._all_strings at 0x7fa968e8deb0>,\n",
       "   <generator object Tag._all_strings at 0x7fa968f4b200>,\n",
       "   <generator object Tag._all_strings at 0x7fa968f4b270>,\n",
       "   <generator object Tag._all_strings at 0x7fa968f4b2e0>,\n",
       "   <generator object Tag._all_strings at 0x7fa968f4b350>,\n",
       "   <generator object Tag._all_strings at 0x7fa968f4b3c0>,\n",
       "   <generator object Tag._all_strings at 0x7fa968f4b430>],\n",
       "  'artist': 'Ted Gärdestad',\n",
       "  'genre': 'pop'},\n",
       " {'link': 'http://www.metrolyrics.com/phir-bhi-tumko-chahunga-lyrics-arijit-singh.html',\n",
       "  'title': '\\nPhir Bhi Tumko Chahunga Lyrics\\t',\n",
       "  'lyrics': [<generator object Tag._all_strings at 0x7fa968ef9c80>,\n",
       "   <generator object Tag._all_strings at 0x7fa968ef9cf0>,\n",
       "   <generator object Tag._all_strings at 0x7fa968ef9d60>,\n",
       "   <generator object Tag._all_strings at 0x7fa968ef9dd0>,\n",
       "   <generator object Tag._all_strings at 0x7fa968ef9e40>,\n",
       "   <generator object Tag._all_strings at 0x7fa968ef9eb0>,\n",
       "   <generator object Tag._all_strings at 0x7fa968ef9f20>,\n",
       "   <generator object Tag._all_strings at 0x7fa968ef9f90>,\n",
       "   <generator object Tag._all_strings at 0x7fa968efe040>,\n",
       "   <generator object Tag._all_strings at 0x7fa968efe0b0>,\n",
       "   <generator object Tag._all_strings at 0x7fa968efe120>,\n",
       "   <generator object Tag._all_strings at 0x7fa968efe190>,\n",
       "   <generator object Tag._all_strings at 0x7fa968efe200>],\n",
       "  'artist': 'Arijit Singh',\n",
       "  'genre': 'pop'},\n",
       " {'link': 'http://www.metrolyrics.com/7th-element-lyrics-vitas.html',\n",
       "  'title': '\\n7th Element Lyrics\\t',\n",
       "  'lyrics': [<generator object Tag._all_strings at 0x7fa968f4b660>,\n",
       "   <generator object Tag._all_strings at 0x7fa96907fa50>,\n",
       "   <generator object Tag._all_strings at 0x7fa96907fac0>],\n",
       "  'artist': 'Vitas',\n",
       "  'genre': 'pop'},\n",
       " {'link': 'http://www.metrolyrics.com/tale-as-old-as-time-lyrics-disney.html',\n",
       "  'title': '\\nTale As Old As Time Lyrics\\t',\n",
       "  'lyrics': [<generator object Tag._all_strings at 0x7fa968efe270>,\n",
       "   <generator object Tag._all_strings at 0x7fa969030dd0>,\n",
       "   <generator object Tag._all_strings at 0x7fa969030e40>,\n",
       "   <generator object Tag._all_strings at 0x7fa969030eb0>,\n",
       "   <generator object Tag._all_strings at 0x7fa969030f20>,\n",
       "   <generator object Tag._all_strings at 0x7fa969030f90>,\n",
       "   <generator object Tag._all_strings at 0x7fa969036040>,\n",
       "   <generator object Tag._all_strings at 0x7fa9690360b0>],\n",
       "  'artist': 'Disney',\n",
       "  'genre': 'pop'},\n",
       " {'link': 'http://www.metrolyrics.com/magbalik-lyrics-callalily.html',\n",
       "  'title': '\\nMagbalik Lyrics\\t',\n",
       "  'lyrics': [<generator object Tag._all_strings at 0x7fa968efe350>,\n",
       "   <generator object Tag._all_strings at 0x7fa969258200>,\n",
       "   <generator object Tag._all_strings at 0x7fa969258270>,\n",
       "   <generator object Tag._all_strings at 0x7fa9692582e0>,\n",
       "   <generator object Tag._all_strings at 0x7fa969258350>,\n",
       "   <generator object Tag._all_strings at 0x7fa9692583c0>,\n",
       "   <generator object Tag._all_strings at 0x7fa969258430>,\n",
       "   <generator object Tag._all_strings at 0x7fa9692584a0>,\n",
       "   <generator object Tag._all_strings at 0x7fa969258510>,\n",
       "   <generator object Tag._all_strings at 0x7fa969258580>,\n",
       "   <generator object Tag._all_strings at 0x7fa9692585f0>],\n",
       "  'artist': 'Callalily',\n",
       "  'genre': 'pop'},\n",
       " {'link': 'http://www.metrolyrics.com/fresh-prince-of-bel-air-lyrics-will-smith.html',\n",
       "  'title': '\\nFresh Prince of Bel - Air Lyrics\\t',\n",
       "  'lyrics': [<generator object Tag._all_strings at 0x7fa969294580>,\n",
       "   <generator object Tag._all_strings at 0x7fa9692945f0>,\n",
       "   <generator object Tag._all_strings at 0x7fa969294660>,\n",
       "   <generator object Tag._all_strings at 0x7fa9692946d0>,\n",
       "   <generator object Tag._all_strings at 0x7fa969294740>,\n",
       "   <generator object Tag._all_strings at 0x7fa9692947b0>,\n",
       "   <generator object Tag._all_strings at 0x7fa969294820>,\n",
       "   <generator object Tag._all_strings at 0x7fa969294890>],\n",
       "  'artist': 'Will Smith',\n",
       "  'genre': 'pop'},\n",
       " {'link': 'http://www.metrolyrics.com/price-tag-lyrics-jessie-j.html',\n",
       "  'title': '\\nPrice Tag Lyrics\\t',\n",
       "  'lyrics': [<generator object Tag._all_strings at 0x7fa968f4b6d0>,\n",
       "   <generator object Tag._all_strings at 0x7fa969418430>,\n",
       "   <generator object Tag._all_strings at 0x7fa9694184a0>,\n",
       "   <generator object Tag._all_strings at 0x7fa969418510>,\n",
       "   <generator object Tag._all_strings at 0x7fa969418580>,\n",
       "   <generator object Tag._all_strings at 0x7fa9694185f0>,\n",
       "   <generator object Tag._all_strings at 0x7fa969418660>,\n",
       "   <generator object Tag._all_strings at 0x7fa9694186d0>,\n",
       "   <generator object Tag._all_strings at 0x7fa969418740>,\n",
       "   <generator object Tag._all_strings at 0x7fa9694187b0>,\n",
       "   <generator object Tag._all_strings at 0x7fa969418820>],\n",
       "  'artist': 'Jessie J',\n",
       "  'genre': 'pop'},\n",
       " {'link': 'http://www.metrolyrics.com/nico-and-the-niners-lyrics-twenty-one-pilots.html',\n",
       "  'title': '\\nNico and the Niners Lyrics\\t',\n",
       "  'lyrics': [<generator object Tag._all_strings at 0x7fa969614740>,\n",
       "   <generator object Tag._all_strings at 0x7fa9696147b0>,\n",
       "   <generator object Tag._all_strings at 0x7fa969614820>,\n",
       "   <generator object Tag._all_strings at 0x7fa969614890>,\n",
       "   <generator object Tag._all_strings at 0x7fa969614900>,\n",
       "   <generator object Tag._all_strings at 0x7fa969614970>,\n",
       "   <generator object Tag._all_strings at 0x7fa9696149e0>,\n",
       "   <generator object Tag._all_strings at 0x7fa969614a50>,\n",
       "   <generator object Tag._all_strings at 0x7fa969614ac0>],\n",
       "  'artist': 'Twenty One Pilots',\n",
       "  'genre': 'pop'},\n",
       " {'link': 'http://www.metrolyrics.com/burn-lyrics-usher.html',\n",
       "  'title': '\\nBurn Lyrics\\t',\n",
       "  'lyrics': [<generator object Tag._all_strings at 0x7fa969614d60>,\n",
       "   <generator object Tag._all_strings at 0x7fa9692949e0>,\n",
       "   <generator object Tag._all_strings at 0x7fa9696526d0>,\n",
       "   <generator object Tag._all_strings at 0x7fa969652740>,\n",
       "   <generator object Tag._all_strings at 0x7fa9696527b0>,\n",
       "   <generator object Tag._all_strings at 0x7fa969652820>,\n",
       "   <generator object Tag._all_strings at 0x7fa969652890>,\n",
       "   <generator object Tag._all_strings at 0x7fa969652900>,\n",
       "   <generator object Tag._all_strings at 0x7fa969652970>,\n",
       "   <generator object Tag._all_strings at 0x7fa9696529e0>,\n",
       "   <generator object Tag._all_strings at 0x7fa969652a50>,\n",
       "   <generator object Tag._all_strings at 0x7fa969652ac0>,\n",
       "   <generator object Tag._all_strings at 0x7fa969652b30>],\n",
       "  'artist': 'Usher',\n",
       "  'genre': 'pop'},\n",
       " {'link': 'http://www.metrolyrics.com/fabulous-lyrics-ashley-tisdale.html',\n",
       "  'title': '\\nFabulous Lyrics\\t',\n",
       "  'lyrics': [<generator object Tag._all_strings at 0x7fa969614b30>,\n",
       "   <generator object Tag._all_strings at 0x7fa9696d2f20>,\n",
       "   <generator object Tag._all_strings at 0x7fa9696d2f90>,\n",
       "   <generator object Tag._all_strings at 0x7fa9696d8040>,\n",
       "   <generator object Tag._all_strings at 0x7fa9696d80b0>,\n",
       "   <generator object Tag._all_strings at 0x7fa9696d8120>,\n",
       "   <generator object Tag._all_strings at 0x7fa9696d8190>,\n",
       "   <generator object Tag._all_strings at 0x7fa9696d8200>,\n",
       "   <generator object Tag._all_strings at 0x7fa9696d8270>,\n",
       "   <generator object Tag._all_strings at 0x7fa9696d82e0>,\n",
       "   <generator object Tag._all_strings at 0x7fa9696d8350>,\n",
       "   <generator object Tag._all_strings at 0x7fa9696d83c0>,\n",
       "   <generator object Tag._all_strings at 0x7fa9696d8430>,\n",
       "   <generator object Tag._all_strings at 0x7fa9696d84a0>,\n",
       "   <generator object Tag._all_strings at 0x7fa9696d8510>],\n",
       "  'artist': 'Ashley Tisdale',\n",
       "  'genre': 'pop'},\n",
       " {'link': 'http://www.metrolyrics.com/i-will-always-love-you-lyrics-whitney-houston.html',\n",
       "  'title': '\\nI Will Always Love You Lyrics\\t',\n",
       "  'lyrics': [<generator object Tag._all_strings at 0x7fa969614c10>,\n",
       "   <generator object Tag._all_strings at 0x7fa969754190>,\n",
       "   <generator object Tag._all_strings at 0x7fa969754200>,\n",
       "   <generator object Tag._all_strings at 0x7fa969754270>,\n",
       "   <generator object Tag._all_strings at 0x7fa9697542e0>],\n",
       "  'artist': 'Whitney Houston',\n",
       "  'genre': 'pop'},\n",
       " {'link': 'http://www.metrolyrics.com/love-me-like-you-do-lyrics-ellie-goulding.html',\n",
       "  'title': '\\nLove Me Like You Do Lyrics\\t',\n",
       "  'lyrics': [<generator object Tag._all_strings at 0x7fa9697c97b0>,\n",
       "   <generator object Tag._all_strings at 0x7fa9697c9820>,\n",
       "   <generator object Tag._all_strings at 0x7fa9697c9890>,\n",
       "   <generator object Tag._all_strings at 0x7fa9697c9900>,\n",
       "   <generator object Tag._all_strings at 0x7fa9697c9970>,\n",
       "   <generator object Tag._all_strings at 0x7fa9697c99e0>,\n",
       "   <generator object Tag._all_strings at 0x7fa9697c9a50>,\n",
       "   <generator object Tag._all_strings at 0x7fa9697c9ac0>,\n",
       "   <generator object Tag._all_strings at 0x7fa9697c9b30>],\n",
       "  'artist': 'Ellie Goulding',\n",
       "  'genre': 'pop'},\n",
       " {'link': 'http://www.metrolyrics.com/vamos-a-la-playa-lyrics-loona.html',\n",
       "  'title': '\\nVamos A La Playa Lyrics\\t',\n",
       "  'lyrics': [<generator object Tag._all_strings at 0x7fa969754350>,\n",
       "   <generator object Tag._all_strings at 0x7fa969883f20>,\n",
       "   <generator object Tag._all_strings at 0x7fa969883f90>,\n",
       "   <generator object Tag._all_strings at 0x7fa969887040>,\n",
       "   <generator object Tag._all_strings at 0x7fa9698870b0>,\n",
       "   <generator object Tag._all_strings at 0x7fa969887120>,\n",
       "   <generator object Tag._all_strings at 0x7fa969887190>,\n",
       "   <generator object Tag._all_strings at 0x7fa969887200>,\n",
       "   <generator object Tag._all_strings at 0x7fa969887270>],\n",
       "  'artist': 'Loona',\n",
       "  'genre': 'pop'}]"
      ]
     },
     "metadata": {},
     "execution_count": 178
    }
   ],
   "source": [
    "song_links"
   ]
  },
  {
   "cell_type": "markdown",
   "metadata": {},
   "source": [
    "# Setting up DynamoDB Table "
   ]
  },
  {
   "cell_type": "code",
   "execution_count": null,
   "metadata": {
    "ExecuteTime": {
     "end_time": "2021-04-14T18:17:21.124565Z",
     "start_time": "2021-04-14T18:17:21.103673Z"
    },
    "scrolled": false
   },
   "outputs": [],
   "source": [
    "import boto3"
   ]
  },
  {
   "cell_type": "code",
   "execution_count": null,
   "metadata": {
    "ExecuteTime": {
     "end_time": "2021-04-14T18:18:12.920554Z",
     "start_time": "2021-04-14T18:18:12.913720Z"
    }
   },
   "outputs": [],
   "source": [
    "__TableName__ = \"Songs\""
   ]
  },
  {
   "cell_type": "code",
   "execution_count": null,
   "metadata": {
    "ExecuteTime": {
     "end_time": "2021-04-14T00:17:40.862311Z",
     "start_time": "2021-04-14T00:17:40.598014Z"
    }
   },
   "outputs": [],
   "source": [
    "dynamodb = boto3.resource('dynamodb', region_name='us-east-2')\n",
    "table = dynamodb.create_table(\n",
    "    TableName=__TableName__,\n",
    "    KeySchema=[\n",
    "        {\n",
    "            'AttributeName': 'ID',\n",
    "            'KeyType': 'HASH'  # Partition key\n",
    "        },\n",
    "        {\n",
    "            \"AttributeName\": \"genre\",\n",
    "            \"KeyType\": \"RANGE\"\n",
    "        }\n",
    "    ],\n",
    "    AttributeDefinitions=[\n",
    "        {\n",
    "            'AttributeName': 'ID',\n",
    "            'AttributeType': 'N'\n",
    "        },\n",
    "        {\n",
    "            'AttributeName': 'genre',\n",
    "            'AttributeType': 'S'\n",
    "        }\n",
    "\n",
    "    ],\n",
    "    ProvisionedThroughput={\n",
    "        'ReadCapacityUnits': 10,\n",
    "        'WriteCapacityUnits': 10\n",
    "    }\n",
    ")\n",
    "print(\"Table status:\", table.table_status)"
   ]
  },
  {
   "cell_type": "code",
   "execution_count": null,
   "metadata": {
    "ExecuteTime": {
     "end_time": "2021-04-14T18:18:18.761952Z",
     "start_time": "2021-04-14T18:18:18.703171Z"
    },
    "scrolled": false
   },
   "outputs": [],
   "source": [
    "client = boto3.client('dynamodb', 'us-east-2')\n",
    "DB = boto3.resource('dynamodb', 'us-east-2')\n",
    "table = DB.Table(__TableName__)"
   ]
  },
  {
   "cell_type": "markdown",
   "metadata": {
    "ExecuteTime": {
     "end_time": "2021-04-14T00:23:51.695788Z",
     "start_time": "2021-04-14T00:23:51.687533Z"
    }
   },
   "source": [
    "Method 'crawl_web' for crawling the song_links list and putting the data into the database"
   ]
  },
  {
   "cell_type": "code",
   "execution_count": null,
   "metadata": {
    "ExecuteTime": {
     "end_time": "2021-04-14T01:02:56.477079Z",
     "start_time": "2021-04-14T01:02:56.471804Z"
    },
    "scrolled": false
   },
   "outputs": [],
   "source": [
    "def add_songs_to_db(to_crawl):\n",
    "    for indx, val in enumerate(to_crawl):  # OR: while to_crawl:\n",
    "        response = requests.get(to_crawl[indx]['link'], 'html.lxml')\n",
    "        table.put_item(Item={\n",
    "            'ID': indx,\n",
    "            'genre': to_crawl[indx]['genre'],\n",
    "            'title': to_crawl[indx]['title'],\n",
    "            'artist': to_crawl[indx]['artist'],\n",
    "            'url': to_crawl[indx]['link'],\n",
    "        })\n",
    "        crawler_sleep_timer = (np.random.randint(8, size=32) + 5)"
   ]
  },
  {
   "cell_type": "code",
   "execution_count": null,
   "metadata": {
    "ExecuteTime": {
     "end_time": "2021-04-14T01:05:35.877867Z",
     "start_time": "2021-04-14T01:02:57.731177Z"
    }
   },
   "outputs": [],
   "source": [
    "add_songs_to_db(song_links)"
   ]
  },
  {
   "cell_type": "code",
   "execution_count": null,
   "metadata": {
    "ExecuteTime": {
     "end_time": "2021-04-14T18:18:38.254991Z",
     "start_time": "2021-04-14T18:18:38.204823Z"
    }
   },
   "outputs": [],
   "source": [
    "table.get_item()"
   ]
  },
  {
   "cell_type": "markdown",
   "metadata": {},
   "source": [
    "Method 'clean_song_lyrics' for cleaning song lyrics into appropriate format for storage"
   ]
  },
  {
   "cell_type": "markdown",
   "metadata": {},
   "source": [
    "## WILL LIKELY NEED TO WRITE A METHOD FOR UPDATING LYRICS IN TABLE"
   ]
  },
  {
   "cell_type": "code",
   "execution_count": null,
   "metadata": {},
   "outputs": [],
   "source": [
    "def clean_song_lyrics(response):\n",
    "    cleaned_lyrics = []\n",
    "    soup = BeautifulSoup(response.text, 'lxml.')\n",
    "    for text in soup.find_all('p', {'class' : 'verse'}):\n",
    "        cleaned_lyrics.append(text)\n",
    "    return cleaned_lyrics"
   ]
  },
  {
   "cell_type": "code",
   "execution_count": null,
   "metadata": {},
   "outputs": [],
   "source": [
    "# for loop for updating songs with cleaned song lyrics\n",
    "\n",
    "for song in song_links"
   ]
  },
  {
   "cell_type": "code",
   "execution_count": null,
   "metadata": {
    "ExecuteTime": {
     "end_time": "2021-04-13T23:46:30.324786Z",
     "start_time": "2021-04-13T23:46:30.288942Z"
    }
   },
   "outputs": [],
   "source": [
    "clean_lyrics = clean_song_lyrics(response)"
   ]
  },
  {
   "cell_type": "code",
   "execution_count": null,
   "metadata": {
    "ExecuteTime": {
     "end_time": "2021-04-13T23:46:36.843084Z",
     "start_time": "2021-04-13T23:46:36.837151Z"
    }
   },
   "outputs": [],
   "source": [
    "print(clean_lyrics)"
   ]
  },
  {
   "cell_type": "code",
   "execution_count": null,
   "metadata": {
    "ExecuteTime": {
     "end_time": "2021-04-13T23:28:08.043689Z",
     "start_time": "2021-04-13T23:28:08.036706Z"
    }
   },
   "outputs": [],
   "source": [
    "type(clean_lyrics)"
   ]
  },
  {
   "cell_type": "markdown",
   "metadata": {},
   "source": [
    "retrieves the text of the lyrics element"
   ]
  },
  {
   "cell_type": "code",
   "execution_count": null,
   "metadata": {
    "scrolled": false
   },
   "outputs": [],
   "source": [
    "clean_lyrics = [] \n",
    "\n",
    "for url in all_lyrics:\n",
    "    clean_lyric = url\n",
    "    clean_lyrics.append(url.text_content())\n",
    "    \n",
    "all_lyrics.extend(clean_lyrics)"
   ]
  },
  {
   "cell_type": "markdown",
   "metadata": {},
   "source": [
    "\"list does not have text content error\" means that your're referenceing a list, reference the loop"
   ]
  },
  {
   "cell_type": "code",
   "execution_count": null,
   "metadata": {
    "scrolled": false
   },
   "outputs": [],
   "source": [
    "all_lyrics[0]"
   ]
  },
  {
   "cell_type": "code",
   "execution_count": null,
   "metadata": {
    "scrolled": false
   },
   "outputs": [],
   "source": [
    "len(clean_lyrics)"
   ]
  },
  {
   "cell_type": "code",
   "execution_count": null,
   "metadata": {
    "scrolled": false
   },
   "outputs": [],
   "source": [
    "print(clean_lyrics)"
   ]
  }
 ],
 "metadata": {
  "gist": {
   "data": {
    "description": "",
    "public": true
   },
   "id": ""
  },
  "kernelspec": {
   "display_name": "Python 3",
   "language": "python",
   "name": "python3"
  },
  "language_info": {
   "codemirror_mode": {
    "name": "ipython",
    "version": 3
   },
   "file_extension": ".py",
   "mimetype": "text/x-python",
   "name": "python",
   "nbconvert_exporter": "python",
   "pygments_lexer": "ipython3",
   "version": "3.8.8-final"
  },
  "toc": {
   "base_numbering": 1,
   "nav_menu": {
    "height": "320px",
    "width": "622px"
   },
   "number_sections": true,
   "sideBar": true,
   "skip_h1_title": false,
   "title_cell": "Table of Contents",
   "title_sidebar": "Contents",
   "toc_cell": false,
   "toc_position": {},
   "toc_section_display": true,
   "toc_window_display": false
  },
  "varInspector": {
   "cols": {
    "lenName": 16,
    "lenType": 16,
    "lenVar": 40
   },
   "kernels_config": {
    "python": {
     "delete_cmd_postfix": "",
     "delete_cmd_prefix": "del ",
     "library": "var_list.py",
     "varRefreshCmd": "print(var_dic_list())"
    },
    "r": {
     "delete_cmd_postfix": ") ",
     "delete_cmd_prefix": "rm(",
     "library": "var_list.r",
     "varRefreshCmd": "cat(var_dic_list()) "
    }
   },
   "position": {
    "height": "461px",
    "left": "1550px",
    "right": "20px",
    "top": "120px",
    "width": "350px"
   },
   "types_to_exclude": [
    "module",
    "function",
    "builtin_function_or_method",
    "instance",
    "_Feature"
   ],
   "window_display": true
  }
 },
 "nbformat": 4,
 "nbformat_minor": 2
}